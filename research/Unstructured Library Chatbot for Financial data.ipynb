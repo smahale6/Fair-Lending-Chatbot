{
 "cells": [
  {
   "cell_type": "markdown",
   "id": "e518b711-c98e-49c8-9309-03ac2e6c4801",
   "metadata": {},
   "source": [
    "### Install necessary Packages"
   ]
  },
  {
   "cell_type": "code",
   "execution_count": 1,
   "id": "bafcd4d3-86e5-40a5-bb47-9ac35e693352",
   "metadata": {},
   "outputs": [],
   "source": [
    "#!pip install \"unstructured[all-docs]\" unstructured-client watermark python-dotenv pydantic langchain langchain-community langchain_core langchain_openai chromadb"
   ]
  },
  {
   "cell_type": "code",
   "execution_count": 2,
   "id": "74e392ca-b0c1-4103-93e9-1d3c082491eb",
   "metadata": {},
   "outputs": [
    {
     "name": "stdout",
     "output_type": "stream",
     "text": [
      "Python implementation: CPython\n",
      "Python version       : 3.10.15\n",
      "IPython version      : 8.29.0\n",
      "\n",
      "Compiler    : MSC v.1929 64 bit (AMD64)\n",
      "OS          : Windows\n",
      "Release     : 10\n",
      "Machine     : AMD64\n",
      "Processor   : Intel64 Family 6 Model 151 Stepping 2, GenuineIntel\n",
      "CPU cores   : 20\n",
      "Architecture: 64bit\n",
      "\n",
      "Git hash: \n",
      "\n",
      "Git branch: \n",
      "\n"
     ]
    }
   ],
   "source": [
    "# Get installed versions\n",
    "import watermark\n",
    "\n",
    "%load_ext watermark\n",
    "%watermark -n -v -m -g -b"
   ]
  },
  {
   "cell_type": "markdown",
   "id": "9e6a6191-5953-4103-861e-5fc93e9638f0",
   "metadata": {},
   "source": [
    "### Import necessary packages"
   ]
  },
  {
   "cell_type": "code",
   "execution_count": 3,
   "id": "eeabb317-b1c4-49d6-a572-f7bedb86e067",
   "metadata": {},
   "outputs": [],
   "source": [
    "import warnings\n",
    "warnings.filterwarnings('ignore')"
   ]
  },
  {
   "cell_type": "markdown",
   "id": "a7cb73e0-34eb-4813-a607-fb8682bf79e4",
   "metadata": {},
   "source": [
    "### Unstructured.io lookup"
   ]
  },
  {
   "cell_type": "code",
   "execution_count": 4,
   "id": "4a5c1b01-a814-4143-b415-7be69db9dd39",
   "metadata": {},
   "outputs": [
    {
     "name": "stdout",
     "output_type": "stream",
     "text": [
      "Help on package unstructured.partition in unstructured:\n",
      "\n",
      "NAME\n",
      "    unstructured.partition\n",
      "\n",
      "PACKAGE CONTENTS\n",
      "    api\n",
      "    auto\n",
      "    common (package)\n",
      "    csv\n",
      "    doc\n",
      "    docx\n",
      "    email\n",
      "    epub\n",
      "    html (package)\n",
      "    image\n",
      "    json\n",
      "    md\n",
      "    model_init\n",
      "    msg\n",
      "    odt\n",
      "    org\n",
      "    pdf\n",
      "    pdf_image (package)\n",
      "    ppt\n",
      "    pptx\n",
      "    rst\n",
      "    rtf\n",
      "    strategies\n",
      "    text\n",
      "    text_type\n",
      "    tsv\n",
      "    utils (package)\n",
      "    xlsx\n",
      "    xml\n",
      "\n",
      "FILE\n",
      "    c:\\users\\user\\anaconda3\\envs\\fairlens\\lib\\site-packages\\unstructured\\partition\\__init__.py\n",
      "\n",
      "\n"
     ]
    }
   ],
   "source": [
    "import unstructured.partition\n",
    "\n",
    "help(unstructured.partition)"
   ]
  },
  {
   "cell_type": "markdown",
   "id": "cd541f09-5d60-46ee-977f-14173c7e0e84",
   "metadata": {},
   "source": [
    "### Load PDF"
   ]
  },
  {
   "cell_type": "code",
   "execution_count": 5,
   "id": "1294eff6-06ce-4749-8ab5-85d6fb97038e",
   "metadata": {},
   "outputs": [],
   "source": [
    "from unstructured.partition.pdf import partition_pdf\n",
    "\n",
    "pdf_path = \"./data/Sample-Accounting-Income-Statement-PDF-File.pdf\"\n",
    "\n",
    "elements = partition_pdf(filename=pdf_path)"
   ]
  },
  {
   "cell_type": "code",
   "execution_count": 6,
   "id": "bc74479c-692c-427d-8c3f-a8680bd249f2",
   "metadata": {},
   "outputs": [],
   "source": [
    "#elements"
   ]
  },
  {
   "cell_type": "code",
   "execution_count": 7,
   "id": "b009b2ee-1d3a-4452-be4c-b8dbed3c153a",
   "metadata": {},
   "outputs": [
    {
     "name": "stdout",
     "output_type": "stream",
     "text": [
      "Length of elements: 257\n"
     ]
    }
   ],
   "source": [
    "print(f\"Length of elements: {len(elements)}\")"
   ]
  },
  {
   "cell_type": "code",
   "execution_count": 8,
   "id": "81afcc66-985f-48b5-a6ed-450d87f04f09",
   "metadata": {},
   "outputs": [],
   "source": [
    "import json\n",
    "\n",
    "element_dict = [element.to_dict() for element in elements]\n",
    "output = json.dumps(element_dict, indent=2)"
   ]
  },
  {
   "cell_type": "code",
   "execution_count": 9,
   "id": "2c05b6ec-62c7-409b-98b6-72b7f2f2db06",
   "metadata": {},
   "outputs": [],
   "source": [
    "#print(output)"
   ]
  },
  {
   "cell_type": "code",
   "execution_count": 10,
   "id": "9f7ba25a-0c5e-4e06-b3d7-c47b4f8a4d79",
   "metadata": {},
   "outputs": [
    {
     "name": "stdout",
     "output_type": "stream",
     "text": [
      "{'UncategorizedText', 'Title', 'NarrativeText', 'Footer', 'Header', 'ListItem'}\n"
     ]
    }
   ],
   "source": [
    "unique_element_type = set()\n",
    "\n",
    "for element in element_dict:\n",
    "    unique_element_type.add(element[\"type\"])\n",
    "print(unique_element_type)"
   ]
  },
  {
   "cell_type": "markdown",
   "id": "72868fff-80e7-4043-90b2-03431ef3772c",
   "metadata": {},
   "source": [
    "### API CLient"
   ]
  },
  {
   "cell_type": "code",
   "execution_count": 11,
   "id": "32aa5bdc-45e9-43fe-a875-661dd6fa16e1",
   "metadata": {},
   "outputs": [],
   "source": [
    "import os\n",
    "from dotenv import load_dotenv, find_dotenv\n",
    "\n",
    "load_dotenv(find_dotenv())\n",
    "\n",
    "unstructured_api_key = os.getenv(\"UNSTRUCTURED_API_KEY\")\n",
    "unstructured_api_url = os.getenv(\"UNSTRUCTURED_API_URL\")"
   ]
  },
  {
   "cell_type": "code",
   "execution_count": 12,
   "id": "e1910fb9-1c96-430c-b9a9-9a83fd457308",
   "metadata": {},
   "outputs": [
    {
     "data": {
      "text/plain": [
       "'NexlrzZqBXLpvfS40owPzq5ttwucaE'"
      ]
     },
     "execution_count": 12,
     "metadata": {},
     "output_type": "execute_result"
    }
   ],
   "source": [
    "unstructured_api_key"
   ]
  },
  {
   "cell_type": "code",
   "execution_count": 13,
   "id": "2c51f23a-6945-40a8-bbc3-a75860f4b09b",
   "metadata": {},
   "outputs": [],
   "source": [
    "from unstructured_client import UnstructuredClient\n",
    "\n",
    "client = UnstructuredClient(\n",
    "                                api_key_auth=unstructured_api_key,\n",
    "                                server_url=unstructured_api_url\n",
    "                            )"
   ]
  },
  {
   "cell_type": "code",
   "execution_count": 14,
   "id": "086d704d-076d-4e56-98ca-bbeee4f16ce1",
   "metadata": {},
   "outputs": [
    {
     "data": {
      "text/plain": [
       "<unstructured_client.sdk.UnstructuredClient at 0x1eaca126980>"
      ]
     },
     "execution_count": 14,
     "metadata": {},
     "output_type": "execute_result"
    }
   ],
   "source": [
    "client"
   ]
  },
  {
   "cell_type": "markdown",
   "id": "d0b69165-241a-4228-9073-0da5e2f85a7d",
   "metadata": {},
   "source": [
    "### Extract Table With Client API"
   ]
  },
  {
   "cell_type": "code",
   "execution_count": 15,
   "id": "800b2d2b-0a1f-4bd6-998b-5fdb8dcd461e",
   "metadata": {},
   "outputs": [],
   "source": [
    "from unstructured_client.models import shared\n",
    "from unstructured_client.models.errors import SDKError\n",
    "from unstructured.staging.base import dict_to_elements\n",
    "from unstructured_client.models import shared, operations"
   ]
  },
  {
   "cell_type": "code",
   "execution_count": 16,
   "id": "31f95209-55ef-41db-a689-0dcade4d139c",
   "metadata": {},
   "outputs": [
    {
     "name": "stderr",
     "output_type": "stream",
     "text": [
      "WARNING: 'split_pdf_cache_tmp_data' does not exist. Using default value 'C:\\Users\\User\\AppData\\Local\\Temp'.\n",
      "INFO: HTTP Request: GET https://api.unstructuredapp.io/general/docs \"HTTP/1.1 200 OK\"\n",
      "INFO: HTTP Request: POST https://api.unstructuredapp.io/general/v0/general \"HTTP/1.1 200 OK\"\n",
      "INFO: HTTP Request: POST https://api.unstructuredapp.io/general/v0/general \"HTTP/1.1 200 OK\"\n",
      "INFO: HTTP Request: POST https://api.unstructuredapp.io/general/v0/general \"HTTP/1.1 200 OK\"\n",
      "INFO: HTTP Request: POST https://api.unstructuredapp.io/general/v0/general \"HTTP/1.1 200 OK\"\n"
     ]
    }
   ],
   "source": [
    "with open(pdf_path, \"rb\") as f:\n",
    "    files = shared.Files(\n",
    "        content=f.read(),\n",
    "        file_name=pdf_path\n",
    "    )\n",
    "    \n",
    "\n",
    "req = operations.PartitionRequest(\n",
    "    partition_parameters=shared.PartitionParameters(\n",
    "        files=files,\n",
    "        strategy=\"hi_res\",\n",
    "        hi_res_model_name=\"yolox\",\n",
    "        skip_infer_table_types=[],\n",
    "        pdf_infer_table_structure=True\n",
    "    )\n",
    ")\n",
    "\n",
    "try:\n",
    "    resp = client.general.partition(request=req)\n",
    "    elements = dict_to_elements(resp.elements)\n",
    "except SDKError as e:\n",
    "    print(e)\n"
   ]
  },
  {
   "cell_type": "code",
   "execution_count": null,
   "id": "9a948e79-6015-472f-b80d-b7e846d9a358",
   "metadata": {},
   "outputs": [],
   "source": []
  }
 ],
 "metadata": {
  "kernelspec": {
   "display_name": "Python 3 (ipykernel)",
   "language": "python",
   "name": "python3"
  },
  "language_info": {
   "codemirror_mode": {
    "name": "ipython",
    "version": 3
   },
   "file_extension": ".py",
   "mimetype": "text/x-python",
   "name": "python",
   "nbconvert_exporter": "python",
   "pygments_lexer": "ipython3",
   "version": "3.10.15"
  }
 },
 "nbformat": 4,
 "nbformat_minor": 5
}
